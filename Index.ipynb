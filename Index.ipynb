{
 "cells": [
  {
   "cell_type": "markdown",
   "metadata": {},
   "source": [
    "# IPython & Jupyter: a quick tutorial"
   ]
  },
  {
   "cell_type": "markdown",
   "metadata": {},
   "source": [
    "Outline:\n",
    "\n",
    "* [IPython](examples/IPython Kernel/Index.ipynb)\n",
    "* [The Notebook](examples/Notebook/Index.ipynb)\n",
    "\n",
    "## Interactive widgets\n",
    "\n",
    "* [Introduction to Interactive Javascript Widgets](examples/Interactive Widgets/Using Interact.ipynb)\n",
    "* [Interact Exercises](exercises/Interactive Widgets/Interact Exercises.ipynb)\n",
    "* [Introduction to Widgets](examples/Interactive Widgets/Widget Basics.ipynb)\n",
    "* [Quick list of Widgets](examples/Interactive Widgets/Widget List.ipynb)\n",
    "* [Widget Events](examples/Interactive Widgets/Widget Events.ipynb)\n",
    "* [Widget Styling](examples/Interactive Widgets/Widget Styling.ipynb)\n",
    "* [Custom Widget: Hello World](examples/Interactive Widgets/Custom Widget - Hello World.ipynb)\n",
    "* [Widget Exercises](exercises/Interactive Widgets/Widget Exercises.ipynb)"
   ]
  },
  {
   "cell_type": "markdown",
   "metadata": {},
   "source": [
    "There are a lot more detailed notebooks in this same directory that cover other topics, but we can not cover all in a 3-hour tutorial. We encourage you to explore them and practice on your own.\n",
    "\n",
    "For even more detail, you can visit our [example collection](http://nbviewer.ipython.org/github/ipython/ipython/blob/master/examples/Index.ipynb) from our site, also included in the IPython source code repository."
   ]
  }
 ],
 "metadata": {
  "kernelspec": {
   "display_name": "Python 3",
   "language": "python",
   "name": "python3"
  },
  "language_info": {
   "codemirror_mode": {
    "name": "ipython",
    "version": 3
   },
   "file_extension": ".py",
   "mimetype": "text/x-python",
   "name": "python",
   "nbconvert_exporter": "python",
   "pygments_lexer": "ipython3",
   "version": "3.5.2"
  }
 },
 "nbformat": 4,
 "nbformat_minor": 0
}
